{
 "cells": [
  {
   "cell_type": "code",
   "execution_count": 1,
   "metadata": {
    "collapsed": true
   },
   "outputs": [],
   "source": [
    "%matplotlib inline\n",
    "import matplotlib.pyplot as plt\n",
    "import numpy as np\n",
    "from icdir2d import imreg_intermediate\n",
    "from skimage.io import imread\n",
    "from skimage import img_as_float"
   ]
  },
  {
   "cell_type": "code",
   "execution_count": 2,
   "metadata": {
    "scrolled": true
   },
   "outputs": [
    {
     "data": {
      "text/plain": [
       "<matplotlib.image.AxesImage at 0x186b5dae240>"
      ]
     },
     "execution_count": 2,
     "metadata": {},
     "output_type": "execute_result"
    },
    {
     "data": {
      "image/png": "[encoded data removed]",
      "text/plain": [
       "<matplotlib.figure.Figure at 0x186b5cbea58>"
      ]
     },
     "metadata": {},
     "output_type": "display_data"
    }
   ],
   "source": [
    "S = img_as_float(imread('image/S.png'))\n",
    "T = img_as_float(imread('image/T.png'))\n",
    "plt.subplot(121)\n",
    "plt.imshow(S, cmap='gray')\n",
    "plt.subplot(122)\n",
    "plt.imshow(T, cmap='gray')"
   ]
  },
  {
   "cell_type": "markdown",
   "metadata": {},
   "source": [
    "## Example: deform both images to intermediate images\n",
    "$S(x + u(x)) = T(x + v(x))$"
   ]
  },
  {
   "cell_type": "code",
   "execution_count": 3,
   "metadata": {},
   "outputs": [
    {
     "name": "stdout",
     "output_type": "stream",
     "text": [
      "iter = 0, corr = 0.82651471720826\n",
      "iter = 10, corr = 0.8599623080627768\n",
      "iter = 20, corr = 0.8780699688885506\n",
      "iter = 30, corr = 0.8925375759592918\n",
      "iter = 40, corr = 0.9057979928605863\n",
      "iter = 50, corr = 0.9191878782450861\n",
      "iter = 60, corr = 0.9372099179491661\n",
      "iter = 70, corr = 0.9586661516037582\n",
      "iter = 80, corr = 0.997073036646603\n",
      "iter = 90, corr = 0.9928576803653996\n",
      "iter = 100, corr = 0.9970879269486289\n"
     ]
    }
   ],
   "source": [
    "[Su, Tv] = imreg_intermediate(S, T, silent=False, print_frequency=10, max_iter=100)"
   ]
  },
  {
   "cell_type": "code",
   "execution_count": 4,
   "metadata": {},
   "outputs": [
    {
     "data": {
      "text/plain": [
       "<matplotlib.image.AxesImage at 0x186b6005390>"
      ]
     },
     "execution_count": 4,
     "metadata": {},
     "output_type": "execute_result"
    },
    {
     "data": {
      "image/png": "[encoded data removed]",
      "text/plain": [
       "<matplotlib.figure.Figure at 0x186b5ce0208>"
      ]
     },
     "metadata": {},
     "output_type": "display_data"
    }
   ],
   "source": [
    "plt.subplot(141)\n",
    "plt.imshow(Su, cmap='gray')\n",
    "plt.subplot(142)\n",
    "plt.imshow(Tv, cmap='gray')\n",
    "plt.subplot(143)\n",
    "plt.imshow(abs(Su - Tv), cmap='gray')\n",
    "plt.subplot(144)\n",
    "plt.imshow(abs(S - T), cmap='gray')"
   ]
  }
 ],
 "metadata": {
  "kernelspec": {
   "display_name": "Python 3",
   "language": "python",
   "name": "python3"
  },
  "language_info": {
   "codemirror_mode": {
    "name": "ipython",
    "version": 3
   },
   "file_extension": ".py",
   "mimetype": "text/x-python",
   "name": "python",
   "nbconvert_exporter": "python",
   "pygments_lexer": "ipython3",
   "version": "3.6.1"
  }
 },
 "nbformat": 4,
 "nbformat_minor": 2
}
